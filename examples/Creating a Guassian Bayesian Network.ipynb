{
 "cells": [
  {
   "cell_type": "markdown",
   "metadata": {},
   "source": [
    "### 1. **Imports and Setup**\n",
    "We start by importing the necessary libraries from `pgmpy` and setting up the GBN model structure.\n"
   ]
  },
  {
   "cell_type": "code",
   "execution_count": 2,
   "metadata": {},
   "outputs": [
    {
     "name": "stderr",
     "output_type": "stream",
     "text": [
      "c:\\Users\\MS\\pgmpy\\venv\\lib\\site-packages\\tqdm\\auto.py:21: TqdmWarning: IProgress not found. Please update jupyter and ipywidgets. See https://ipywidgets.readthedocs.io/en/stable/user_install.html\n",
      "  from .autonotebook import tqdm as notebook_tqdm\n"
     ]
    }
   ],
   "source": [
    "import sys\n",
    "sys.path.insert(0, 'C:/Users/MS/pgmpy')\n",
    "\n",
    "from pgmpy.models import BayesianNetwork\n",
    "from pgmpy.factors.continuous import LinearGaussianCPD\n",
    "from pgmpy.utils import get_example_model\n",
    "\n",
    "import networkx as nx\n",
    "import matplotlib.pyplot as plt\n",
    "# print(\"pgmpy import successful!\")\n"
   ]
  },
  {
   "cell_type": "markdown",
   "metadata": {},
   "source": [
    "### 2. **Defining a Gaussian Bayesian Network Manually**\n",
    "\n",
    "We will manually define a GBN by specifying both the structure and the parameters (Linear Gaussian CPDs) for the nodes.\n",
    "\n",
    "#### Define the Network Structure\n",
    "We will create a small GBN representing how `Pollution` and `Smoking` affect the probability of `Cancer`, and how `Cancer` affects `Xray` and `Dyspnoea`.\n"
   ]
  },
  {
   "cell_type": "code",
   "execution_count": 3,
   "metadata": {},
   "outputs": [
    {
     "ename": "NameError",
     "evalue": "name 'gaussian_model' is not defined",
     "output_type": "error",
     "traceback": [
      "\u001b[1;31m---------------------------------------------------------------------------\u001b[0m",
      "\u001b[1;31mNameError\u001b[0m                                 Traceback (most recent call last)",
      "Cell \u001b[1;32mIn[3], line 1\u001b[0m\n\u001b[1;32m----> 1\u001b[0m \u001b[38;5;28mprint\u001b[39m(\u001b[43mgaussian_model\u001b[49m\u001b[38;5;241m.\u001b[39mnodes())\n\u001b[0;32m      2\u001b[0m \u001b[38;5;28mprint\u001b[39m(gaussian_model\u001b[38;5;241m.\u001b[39medges())\n",
      "\u001b[1;31mNameError\u001b[0m: name 'gaussian_model' is not defined"
     ]
    }
   ],
   "source": [
    "print(gaussian_model.nodes())\n",
    "print(gaussian_model.edges())\n"
   ]
  },
  {
   "cell_type": "code",
   "execution_count": 13,
   "metadata": {},
   "outputs": [
    {
     "data": {
      "image/png": "[encoded data removed]",
      "text/plain": [
       "<Figure size 640x480 with 1 Axes>"
      ]
     },
     "metadata": {},
     "output_type": "display_data"
    }
   ],
   "source": [
    "# Define the network structure\n",
    "gaussian_model = BayesianNetwork([(\"Pollution\", \"Cancer\"),\n",
    "                                  (\"Smoker\", \"Cancer\"),\n",
    "                                  (\"Cancer\", \"Xray\"),\n",
    "                                  (\"Cancer\", \"Dyspnoea\")])\n",
    "\n",
    "# Visualize the network\n",
    "# pos = nx.spring_layout(gaussian_model)  # Position the nodes\n",
    "# nx.draw(gaussian_model, pos, with_labels=True, node_size=3000, node_color=\"lightblue\", font_size=10, font_weight=\"bold\")\n",
    "pos = nx.shell_layout(gaussian_model)  # Try shell_layout instead of spring_layout\n",
    "nx.draw_networkx(gaussian_model, pos, with_labels=True, node_size=3000, node_color=\"lightblue\", font_size=10, font_weight=\"bold\")\n",
    "plt.show()\n",
    "\n"
   ]
  },
  {
   "cell_type": "markdown",
   "metadata": {},
   "source": [
    "#### Define the CPDs\n",
    "In GBNs, we use `LinearGaussianCPD` for continuous variables. Each node will have a Gaussian distribution with linear dependencies on its parent nodes.\n"
   ]
  },
  {
   "cell_type": "code",
   "execution_count": 16,
   "metadata": {},
   "outputs": [
    {
     "name": "stdout",
     "output_type": "stream",
     "text": [
      "Is the model valid? True\n"
     ]
    },
    {
     "name": "stderr",
     "output_type": "stream",
     "text": [
      "Generating for node: Dyspnoea: 100%|██████████| 5/5 [00:00<00:00, 186.14it/s]"
     ]
    },
    {
     "name": "stdout",
     "output_type": "stream",
     "text": [
      "   Pollution  Cancer  Smoker  Xray  Dyspnoea\n",
      "0          0       1       1     0         0\n",
      "1          0       1       0     1         1\n",
      "2          0       1       1     1         1\n",
      "3          0       1       1     1         1\n",
      "4          0       1       1     0         1\n"
     ]
    },
    {
     "name": "stderr",
     "output_type": "stream",
     "text": [
      "\n"
     ]
    }
   ],
   "source": [
    "from pgmpy.sampling import BayesianModelSampling\n",
    "from pgmpy.factors.discrete import TabularCPD\n",
    "\n",
    "# Create a Bayesian model with CPDs (if not already done)\n",
    "gaussian_model = BayesianNetwork([('Pollution', 'Cancer'), ('Smoker', 'Cancer'), ('Cancer', 'Xray'), ('Cancer', 'Dyspnoea')])\n",
    "\n",
    "# Example CPDs (using TabularCPD for illustration, you can adapt these as needed)\n",
    "cpd_pollution = TabularCPD(variable='Pollution', variable_card=2, values=[[0.9], [0.1]])\n",
    "cpd_smoker = TabularCPD(variable='Smoker', variable_card=2, values=[[0.3], [0.7]])\n",
    "cpd_cancer = TabularCPD(variable='Cancer', variable_card=2, \n",
    "                        values=[[0.03, 0.05, 0.001, 0.02], [0.97, 0.95, 0.999, 0.98]],\n",
    "                        evidence=['Pollution', 'Smoker'], evidence_card=[2, 2])\n",
    "cpd_xray = TabularCPD(variable='Xray', variable_card=2, \n",
    "                      values=[[0.9, 0.2], [0.1, 0.8]], \n",
    "                      evidence=['Cancer'], evidence_card=[2])\n",
    "cpd_dysp = TabularCPD(variable='Dyspnoea', variable_card=2, \n",
    "                      values=[[0.65, 0.3], [0.35, 0.7]], \n",
    "                      evidence=['Cancer'], evidence_card=[2])\n",
    "\n",
    "# Add CPDs to the model\n",
    "gaussian_model.add_cpds(cpd_pollution, cpd_smoker, cpd_cancer, cpd_xray, cpd_dysp)\n",
    "\n",
    "# Check if the model is valid\n",
    "print(f\"Is the model valid? {gaussian_model.check_model()}\")\n",
    "\n",
    "# Generate samples using BayesianModelSampling\n",
    "sampler = BayesianModelSampling(gaussian_model)\n",
    "samples = sampler.forward_sample(size=1000)  # Generate 1000 samples\n",
    "\n",
    "# Display the first few samples\n",
    "print(samples.head())\n"
   ]
  },
  {
   "cell_type": "markdown",
   "metadata": {},
   "source": [
    "### 3. **Sampling from the Model**\n",
    "Once the model is defined, we can generate samples from it using `BayesianModelSampling`. This is useful to understand how the model behaves and to generate data.\n"
   ]
  },
  {
   "cell_type": "code",
   "execution_count": 17,
   "metadata": {},
   "outputs": [
    {
     "name": "stderr",
     "output_type": "stream",
     "text": [
      "Generating for node: Dyspnoea: 100%|██████████| 5/5 [00:00<00:00, 315.96it/s]"
     ]
    },
    {
     "name": "stdout",
     "output_type": "stream",
     "text": [
      "   Pollution  Cancer  Smoker  Xray  Dyspnoea\n",
      "0          0       1       1     1         1\n",
      "1          0       1       0     1         1\n",
      "2          0       1       1     0         0\n",
      "3          0       1       0     1         1\n",
      "4          0       1       0     0         0\n"
     ]
    },
    {
     "name": "stderr",
     "output_type": "stream",
     "text": [
      "\n"
     ]
    }
   ],
   "source": [
    "from pgmpy.sampling import BayesianModelSampling\n",
    "\n",
    "# Initialize the sampling class\n",
    "sampler = BayesianModelSampling(gaussian_model)\n",
    "\n",
    "# Generate samples\n",
    "samples = sampler.forward_sample(size=1000)\n",
    "print(samples.head())"
   ]
  },
  {
   "cell_type": "markdown",
   "metadata": {},
   "source": [
    "### 4. **Inference in Gaussian Bayesian Networks**\n",
    "Performing inference in a GBN allows us to compute conditional probabilities. For example, we might want to know the expected value of `Xray` given that a person has `Cancer`."
   ]
  },
  {
   "cell_type": "code",
   "execution_count": 18,
   "metadata": {},
   "outputs": [
    {
     "name": "stdout",
     "output_type": "stream",
     "text": [
      "+---------+-------------+\n",
      "| Xray    |   phi(Xray) |\n",
      "+=========+=============+\n",
      "| Xray(0) |      0.2000 |\n",
      "+---------+-------------+\n",
      "| Xray(1) |      0.8000 |\n",
      "+---------+-------------+\n"
     ]
    }
   ],
   "source": [
    "from pgmpy.inference import VariableElimination\n",
    "\n",
    "# Initialize inference engine\n",
    "inference = VariableElimination(gaussian_model)\n",
    "\n",
    "# Perform inference\n",
    "result = inference.query(variables=['Xray'], evidence={'Cancer': 1})\n",
    "print(result)"
   ]
  },
  {
   "cell_type": "markdown",
   "metadata": {},
   "source": [
    "### 5. **Learning Parameters from Data**\n",
    "If you have real-world continuous data, you can learn the parameters of a Gaussian Bayesian Network using Maximum Likelihood Estimation (MLE)."
   ]
  },
  {
   "cell_type": "code",
   "execution_count": 19,
   "metadata": {},
   "outputs": [
    {
     "name": "stderr",
     "output_type": "stream",
     "text": [
      "INFO:pgmpy: Datatype (N=numerical, C=Categorical Unordered, O=Categorical Ordered) inferred from data: \n",
      " {'Pollution': 'N', 'Smoker': 'N', 'Cancer': 'N', 'Xray': 'N', 'Dyspnoea': 'N'}\n"
     ]
    },
    {
     "name": "stdout",
     "output_type": "stream",
     "text": [
      "+----------------+------+\n",
      "| Pollution(0.1) | 0.25 |\n",
      "+----------------+------+\n",
      "| Pollution(0.2) | 0.25 |\n",
      "+----------------+------+\n",
      "| Pollution(0.3) | 0.25 |\n",
      "+----------------+------+\n",
      "| Pollution(0.4) | 0.25 |\n",
      "+----------------+------+\n",
      "+-------------+----------------+-----+----------------+----------------+\n",
      "| Pollution   | Pollution(0.1) | ... | Pollution(0.4) | Pollution(0.4) |\n",
      "+-------------+----------------+-----+----------------+----------------+\n",
      "| Smoker      | Smoker(0.5)    | ... | Smoker(0.7)    | Smoker(0.8)    |\n",
      "+-------------+----------------+-----+----------------+----------------+\n",
      "| Cancer(0.3) | 1.0            | ... | 0.25           | 0.0            |\n",
      "+-------------+----------------+-----+----------------+----------------+\n",
      "| Cancer(0.5) | 0.0            | ... | 0.25           | 0.0            |\n",
      "+-------------+----------------+-----+----------------+----------------+\n",
      "| Cancer(0.7) | 0.0            | ... | 0.25           | 0.0            |\n",
      "+-------------+----------------+-----+----------------+----------------+\n",
      "| Cancer(0.9) | 0.0            | ... | 0.25           | 1.0            |\n",
      "+-------------+----------------+-----+----------------+----------------+\n",
      "+-------------+------+\n",
      "| Smoker(0.5) | 0.25 |\n",
      "+-------------+------+\n",
      "| Smoker(0.6) | 0.25 |\n",
      "+-------------+------+\n",
      "| Smoker(0.7) | 0.25 |\n",
      "+-------------+------+\n",
      "| Smoker(0.8) | 0.25 |\n",
      "+-------------+------+\n",
      "+-----------+-------------+-------------+-------------+-------------+\n",
      "| Cancer    | Cancer(0.3) | Cancer(0.5) | Cancer(0.7) | Cancer(0.9) |\n",
      "+-----------+-------------+-------------+-------------+-------------+\n",
      "| Xray(0.4) | 1.0         | 0.0         | 0.0         | 0.0         |\n",
      "+-----------+-------------+-------------+-------------+-------------+\n",
      "| Xray(0.5) | 0.0         | 1.0         | 0.0         | 0.0         |\n",
      "+-----------+-------------+-------------+-------------+-------------+\n",
      "| Xray(0.6) | 0.0         | 0.0         | 1.0         | 0.0         |\n",
      "+-----------+-------------+-------------+-------------+-------------+\n",
      "| Xray(0.7) | 0.0         | 0.0         | 0.0         | 1.0         |\n",
      "+-----------+-------------+-------------+-------------+-------------+\n",
      "+---------------+-------------+-------------+-------------+-------------+\n",
      "| Cancer        | Cancer(0.3) | Cancer(0.5) | Cancer(0.7) | Cancer(0.9) |\n",
      "+---------------+-------------+-------------+-------------+-------------+\n",
      "| Dyspnoea(0.5) | 1.0         | 0.0         | 0.0         | 0.0         |\n",
      "+---------------+-------------+-------------+-------------+-------------+\n",
      "| Dyspnoea(0.6) | 0.0         | 1.0         | 0.0         | 0.0         |\n",
      "+---------------+-------------+-------------+-------------+-------------+\n",
      "| Dyspnoea(0.7) | 0.0         | 0.0         | 1.0         | 0.0         |\n",
      "+---------------+-------------+-------------+-------------+-------------+\n",
      "| Dyspnoea(0.8) | 0.0         | 0.0         | 0.0         | 1.0         |\n",
      "+---------------+-------------+-------------+-------------+-------------+\n"
     ]
    }
   ],
   "source": [
    "from pgmpy.estimators import MaximumLikelihoodEstimator\n",
    "import pandas as pd\n",
    "\n",
    "# Sample data\n",
    "data = pd.DataFrame({\n",
    "    'Pollution': [0.1, 0.2, 0.3, 0.4],\n",
    "    'Smoker': [0.5, 0.6, 0.7, 0.8],\n",
    "    'Cancer': [0.3, 0.5, 0.7, 0.9],\n",
    "    'Xray': [0.4, 0.5, 0.6, 0.7],\n",
    "    'Dyspnoea': [0.5, 0.6, 0.7, 0.8]\n",
    "})\n",
    "\n",
    "# Create a new model to learn\n",
    "model_to_learn = BayesianNetwork([(\"Pollution\", \"Cancer\"),\n",
    "                                  (\"Smoker\", \"Cancer\"),\n",
    "                                  (\"Cancer\", \"Xray\"),\n",
    "                                  (\"Cancer\", \"Dyspnoea\")])\n",
    "\n",
    "# Learn CPDs\n",
    "model_to_learn.fit(data, estimator=MaximumLikelihoodEstimator)\n",
    "\n",
    "# Display the learned CPDs\n",
    "for cpd in model_to_learn.get_cpds():\n",
    "    print(cpd)"
   ]
  },
  {
   "cell_type": "markdown",
   "metadata": {},
   "source": [
    "### 6. **Generating a Random Gaussian Bayesian Network**\n",
    "Like with discrete networks, you can generate a random Gaussian Bayesian Network with `pgmpy`.\n"
   ]
  },
  {
   "cell_type": "code",
   "execution_count": 1,
   "metadata": {},
   "outputs": [
    {
     "ename": "ModuleNotFoundError",
     "evalue": "No module named 'pygraphviz'",
     "output_type": "error",
     "traceback": [
      "\u001b[1;31m---------------------------------------------------------------------------\u001b[0m",
      "\u001b[1;31mModuleNotFoundError\u001b[0m                       Traceback (most recent call last)",
      "Cell \u001b[1;32mIn[1], line 1\u001b[0m\n\u001b[1;32m----> 1\u001b[0m \u001b[38;5;28;01mimport\u001b[39;00m \u001b[38;5;21;01mpygraphviz\u001b[39;00m \u001b[38;5;28;01mas\u001b[39;00m \u001b[38;5;21;01mviz\u001b[39;00m\n\u001b[0;32m      2\u001b[0m \u001b[38;5;66;03m# Generate random GBN with 6 nodes and 10 edges\u001b[39;00m\n\u001b[0;32m      3\u001b[0m random_gaussian_model \u001b[38;5;241m=\u001b[39m BayesianNetwork\u001b[38;5;241m.\u001b[39mget_random(n_nodes\u001b[38;5;241m=\u001b[39m\u001b[38;5;241m6\u001b[39m, edge_prob\u001b[38;5;241m=\u001b[39m\u001b[38;5;241m0.4\u001b[39m, n_states\u001b[38;5;241m=\u001b[39m\u001b[38;5;241m1\u001b[39m, latents\u001b[38;5;241m=\u001b[39m\u001b[38;5;28;01mFalse\u001b[39;00m)\n",
      "\u001b[1;31mModuleNotFoundError\u001b[0m: No module named 'pygraphviz'"
     ]
    }
   ],
   "source": [
    "import networkx as nx\n",
    "import matplotlib.pyplot as plt\n",
    "from pgmpy.models import BayesianNetwork\n",
    "from pgmpy.factors.continuous import LinearGaussianCPD\n",
    "from pgmpy.utils import get_example_model\n",
    "\n",
    "# Generate random GBN with 6 nodes and 10 edges\n",
    "random_gaussian_model = BayesianNetwork.get_random(n_nodes=6, edge_prob=0.4, n_states=1, latents=False)\n",
    "\n",
    "# Randomly generate CPDs for the network\n",
    "random_gaussian_model.get_random_cpds(n_states=1, inplace=True)\n",
    "\n",
    "# Get the network as a directed graph (DiGraph) in NetworkX\n",
    "nx_graph = random_gaussian_model.to_networkx()\n",
    "\n",
    "# Visualize the random model using networkx and matplotlib\n",
    "pos = nx.spring_layout(nx_graph)  # Position the nodes\n",
    "nx.draw(nx_graph, pos, with_labels=True, node_size=3000, node_color='lightblue', font_size=10, font_weight='bold', arrows=True)\n",
    "plt.title('Random Gaussian Bayesian Network')\n",
    "plt.show()\n"
   ]
  },
  {
   "cell_type": "code",
   "execution_count": 1,
   "metadata": {},
   "outputs": [
    {
     "name": "stdout",
     "output_type": "stream",
     "text": [
      "Collecting pygraphviz\n",
      "  Using cached pygraphviz-1.14.tar.gz (106 kB)\n",
      "  Installing build dependencies: started\n",
      "  Installing build dependencies: finished with status 'done'\n",
      "  Getting requirements to build wheel: started\n",
      "  Getting requirements to build wheel: finished with status 'done'\n",
      "  Preparing metadata (pyproject.toml): started\n",
      "  Preparing metadata (pyproject.toml): finished with status 'done'\n",
      "Building wheels for collected packages: pygraphviz\n",
      "  Building wheel for pygraphviz (pyproject.toml): started\n",
      "  Building wheel for pygraphviz (pyproject.toml): finished with status 'error'\n",
      "Failed to build pygraphviz\n",
      "Note: you may need to restart the kernel to use updated packages.\n"
     ]
    },
    {
     "name": "stderr",
     "output_type": "stream",
     "text": [
      "  error: subprocess-exited-with-error\n",
      "  \n",
      "  × Building wheel for pygraphviz (pyproject.toml) did not run successfully.\n",
      "  │ exit code: 1\n",
      "  ╰─> [48 lines of output]\n",
      "      running bdist_wheel\n",
      "      running build\n",
      "      running build_py\n",
      "      creating build\\lib.win-amd64-cpython-310\\pygraphviz\n",
      "      copying pygraphviz\\agraph.py -> build\\lib.win-amd64-cpython-310\\pygraphviz\n",
      "      copying pygraphviz\\graphviz.py -> build\\lib.win-amd64-cpython-310\\pygraphviz\n",
      "      copying pygraphviz\\scraper.py -> build\\lib.win-amd64-cpython-310\\pygraphviz\n",
      "      copying pygraphviz\\testing.py -> build\\lib.win-amd64-cpython-310\\pygraphviz\n",
      "      copying pygraphviz\\__init__.py -> build\\lib.win-amd64-cpython-310\\pygraphviz\n",
      "      creating build\\lib.win-amd64-cpython-310\\pygraphviz\\tests\n",
      "      copying pygraphviz\\tests\\test_attribute_defaults.py -> build\\lib.win-amd64-cpython-310\\pygraphviz\\tests\n",
      "      copying pygraphviz\\tests\\test_clear.py -> build\\lib.win-amd64-cpython-310\\pygraphviz\\tests\n",
      "      copying pygraphviz\\tests\\test_close.py -> build\\lib.win-amd64-cpython-310\\pygraphviz\\tests\n",
      "      copying pygraphviz\\tests\\test_drawing.py -> build\\lib.win-amd64-cpython-310\\pygraphviz\\tests\n",
      "      copying pygraphviz\\tests\\test_edge_attributes.py -> build\\lib.win-amd64-cpython-310\\pygraphviz\\tests\n",
      "      copying pygraphviz\\tests\\test_graph.py -> build\\lib.win-amd64-cpython-310\\pygraphviz\\tests\n",
      "      copying pygraphviz\\tests\\test_html.py -> build\\lib.win-amd64-cpython-310\\pygraphviz\\tests\n",
      "      copying pygraphviz\\tests\\test_layout.py -> build\\lib.win-amd64-cpython-310\\pygraphviz\\tests\n",
      "      copying pygraphviz\\tests\\test_node_attributes.py -> build\\lib.win-amd64-cpython-310\\pygraphviz\\tests\n",
      "      copying pygraphviz\\tests\\test_readwrite.py -> build\\lib.win-amd64-cpython-310\\pygraphviz\\tests\n",
      "      copying pygraphviz\\tests\\test_repr_mimebundle.py -> build\\lib.win-amd64-cpython-310\\pygraphviz\\tests\n",
      "      copying pygraphviz\\tests\\test_scraper.py -> build\\lib.win-amd64-cpython-310\\pygraphviz\\tests\n",
      "      copying pygraphviz\\tests\\test_string.py -> build\\lib.win-amd64-cpython-310\\pygraphviz\\tests\n",
      "      copying pygraphviz\\tests\\test_subgraph.py -> build\\lib.win-amd64-cpython-310\\pygraphviz\\tests\n",
      "      copying pygraphviz\\tests\\test_unicode.py -> build\\lib.win-amd64-cpython-310\\pygraphviz\\tests\n",
      "      copying pygraphviz\\tests\\__init__.py -> build\\lib.win-amd64-cpython-310\\pygraphviz\\tests\n",
      "      running egg_info\n",
      "      writing pygraphviz.egg-info\\PKG-INFO\n",
      "      writing dependency_links to pygraphviz.egg-info\\dependency_links.txt\n",
      "      writing top-level names to pygraphviz.egg-info\\top_level.txt\n",
      "      reading manifest file 'pygraphviz.egg-info\\SOURCES.txt'\n",
      "      reading manifest template 'MANIFEST.in'\n",
      "      warning: no files found matching '*.swg'\n",
      "      warning: no files found matching '*.png' under directory 'doc'\n",
      "      warning: no files found matching '*.html' under directory 'doc'\n",
      "      warning: no files found matching '*.txt' under directory 'doc'\n",
      "      warning: no files found matching '*.css' under directory 'doc'\n",
      "      warning: no previously-included files matching '*~' found anywhere in distribution\n",
      "      warning: no previously-included files matching '*.pyc' found anywhere in distribution\n",
      "      warning: no previously-included files matching '.svn' found anywhere in distribution\n",
      "      no previously-included directories found matching 'doc\\build'\n",
      "      adding license file 'LICENSE'\n",
      "      writing manifest file 'pygraphviz.egg-info\\SOURCES.txt'\n",
      "      copying pygraphviz\\graphviz.i -> build\\lib.win-amd64-cpython-310\\pygraphviz\n",
      "      copying pygraphviz\\graphviz_wrap.c -> build\\lib.win-amd64-cpython-310\\pygraphviz\n",
      "      running build_ext\n",
      "      building 'pygraphviz._graphviz' extension\n",
      "      error: Microsoft Visual C++ 14.0 or greater is required. Get it with \"Microsoft C++ Build Tools\": https://visualstudio.microsoft.com/visual-cpp-build-tools/\n",
      "      [end of output]\n",
      "  \n",
      "  note: This error originates from a subprocess, and is likely not a problem with pip.\n",
      "  ERROR: Failed building wheel for pygraphviz\n",
      "ERROR: Could not build wheels for pygraphviz, which is required to install pyproject.toml-based projects\n",
      "\n",
      "[notice] A new release of pip is available: 23.0.1 -> 24.2\n",
      "[notice] To update, run: python.exe -m pip install --upgrade pip\n"
     ]
    }
   ],
   "source": [
    "# pip install pygraphviz"
   ]
  },
  {
   "cell_type": "markdown",
   "metadata": {},
   "source": [
    "### Conclusion\n",
    "This tutorial demonstrates how to create, sample, and perform inference in Gaussian Bayesian Networks using `pgmpy`. You can define models manually, generate random networks, and even learn from data."
   ]
  },
  {
   "cell_type": "markdown",
   "metadata": {},
   "source": []
  }
 ],
 "metadata": {
  "kernelspec": {
   "display_name": "venv",
   "language": "python",
   "name": "python3"
  },
  "language_info": {
   "codemirror_mode": {
    "name": "ipython",
    "version": 3
   },
   "file_extension": ".py",
   "mimetype": "text/x-python",
   "name": "python",
   "nbconvert_exporter": "python",
   "pygments_lexer": "ipython3",
   "version": "3.10.11"
  }
 },
 "nbformat": 4,
 "nbformat_minor": 2
}
